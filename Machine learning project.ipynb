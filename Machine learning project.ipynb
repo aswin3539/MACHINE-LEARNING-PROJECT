{
 "cells": [
  {
   "cell_type": "code",
   "execution_count": 1,
   "id": "3b1f1b13-1290-401c-8382-13fa6c1494be",
   "metadata": {},
   "outputs": [],
   "source": [
    "import pandas as pd\n",
    "import numpy as np\n",
    "from sklearn.model_selection import train_test_split, GridSearchCV\n",
    "from sklearn.linear_model import LinearRegression\n",
    "from sklearn.tree import DecisionTreeRegressor\n",
    "from sklearn.ensemble import RandomForestRegressor, GradientBoostingRegressor\n",
    "from sklearn.svm import SVR\n",
    "from sklearn.metrics import r2_score, mean_squared_error, mean_absolute_error\n",
    "from sklearn.preprocessing import StandardScaler\n",
    "import matplotlib.pyplot as plt\n",
    "import seaborn as sns"
   ]
  },
  {
   "cell_type": "code",
   "execution_count": 9,
   "id": "2b14d64b-be4b-4cc8-a5c5-1a888bb0e44c",
   "metadata": {},
   "outputs": [],
   "source": [
    "# 1. Loading and Preprocessing\n",
    "# Load dataset\n",
    "data = pd.read_csv('CarPrice_Assignment.csv')  # Use raw string literal to avoid unicode escape issues\n"
   ]
  },
  {
   "cell_type": "code",
   "execution_count": 12,
   "id": "8aa048d8-e0ad-4992-a17e-79a5c61072aa",
   "metadata": {},
   "outputs": [
    {
     "name": "stdout",
     "output_type": "stream",
     "text": [
      "<class 'pandas.core.frame.DataFrame'>\n",
      "RangeIndex: 205 entries, 0 to 204\n",
      "Data columns (total 26 columns):\n",
      " #   Column            Non-Null Count  Dtype  \n",
      "---  ------            --------------  -----  \n",
      " 0   car_ID            205 non-null    int64  \n",
      " 1   symboling         205 non-null    int64  \n",
      " 2   CarName           205 non-null    object \n",
      " 3   fueltype          205 non-null    object \n",
      " 4   aspiration        205 non-null    object \n",
      " 5   doornumber        205 non-null    object \n",
      " 6   carbody           205 non-null    object \n",
      " 7   drivewheel        205 non-null    object \n",
      " 8   enginelocation    205 non-null    object \n",
      " 9   wheelbase         205 non-null    float64\n",
      " 10  carlength         205 non-null    float64\n",
      " 11  carwidth          205 non-null    float64\n",
      " 12  carheight         205 non-null    float64\n",
      " 13  curbweight        205 non-null    int64  \n",
      " 14  enginetype        205 non-null    object \n",
      " 15  cylindernumber    205 non-null    object \n",
      " 16  enginesize        205 non-null    int64  \n",
      " 17  fuelsystem        205 non-null    object \n",
      " 18  boreratio         205 non-null    float64\n",
      " 19  stroke            205 non-null    float64\n",
      " 20  compressionratio  205 non-null    float64\n",
      " 21  horsepower        205 non-null    int64  \n",
      " 22  peakrpm           205 non-null    int64  \n",
      " 23  citympg           205 non-null    int64  \n",
      " 24  highwaympg        205 non-null    int64  \n",
      " 25  price             205 non-null    float64\n",
      "dtypes: float64(8), int64(8), object(10)\n",
      "memory usage: 41.8+ KB\n",
      "None\n",
      "           car_ID   symboling   wheelbase   carlength    carwidth   carheight  \\\n",
      "count  205.000000  205.000000  205.000000  205.000000  205.000000  205.000000   \n",
      "mean   103.000000    0.834146   98.756585  174.049268   65.907805   53.724878   \n",
      "std     59.322565    1.245307    6.021776   12.337289    2.145204    2.443522   \n",
      "min      1.000000   -2.000000   86.600000  141.100000   60.300000   47.800000   \n",
      "25%     52.000000    0.000000   94.500000  166.300000   64.100000   52.000000   \n",
      "50%    103.000000    1.000000   97.000000  173.200000   65.500000   54.100000   \n",
      "75%    154.000000    2.000000  102.400000  183.100000   66.900000   55.500000   \n",
      "max    205.000000    3.000000  120.900000  208.100000   72.300000   59.800000   \n",
      "\n",
      "        curbweight  enginesize   boreratio      stroke  compressionratio  \\\n",
      "count   205.000000  205.000000  205.000000  205.000000        205.000000   \n",
      "mean   2555.565854  126.907317    3.329756    3.255415         10.142537   \n",
      "std     520.680204   41.642693    0.270844    0.313597          3.972040   \n",
      "min    1488.000000   61.000000    2.540000    2.070000          7.000000   \n",
      "25%    2145.000000   97.000000    3.150000    3.110000          8.600000   \n",
      "50%    2414.000000  120.000000    3.310000    3.290000          9.000000   \n",
      "75%    2935.000000  141.000000    3.580000    3.410000          9.400000   \n",
      "max    4066.000000  326.000000    3.940000    4.170000         23.000000   \n",
      "\n",
      "       horsepower      peakrpm     citympg  highwaympg         price  \n",
      "count  205.000000   205.000000  205.000000  205.000000    205.000000  \n",
      "mean   104.117073  5125.121951   25.219512   30.751220  13276.710571  \n",
      "std     39.544167   476.985643    6.542142    6.886443   7988.852332  \n",
      "min     48.000000  4150.000000   13.000000   16.000000   5118.000000  \n",
      "25%     70.000000  4800.000000   19.000000   25.000000   7788.000000  \n",
      "50%     95.000000  5200.000000   24.000000   30.000000  10295.000000  \n",
      "75%    116.000000  5500.000000   30.000000   34.000000  16503.000000  \n",
      "max    288.000000  6600.000000   49.000000   54.000000  45400.000000  \n",
      "car_ID              0\n",
      "symboling           0\n",
      "CarName             0\n",
      "fueltype            0\n",
      "aspiration          0\n",
      "doornumber          0\n",
      "carbody             0\n",
      "drivewheel          0\n",
      "enginelocation      0\n",
      "wheelbase           0\n",
      "carlength           0\n",
      "carwidth            0\n",
      "carheight           0\n",
      "curbweight          0\n",
      "enginetype          0\n",
      "cylindernumber      0\n",
      "enginesize          0\n",
      "fuelsystem          0\n",
      "boreratio           0\n",
      "stroke              0\n",
      "compressionratio    0\n",
      "horsepower          0\n",
      "peakrpm             0\n",
      "citympg             0\n",
      "highwaympg          0\n",
      "price               0\n",
      "dtype: int64\n"
     ]
    }
   ],
   "source": [
    "# Inspect the data\n",
    "print(data.info())\n",
    "print(data.describe())\n",
    "print(data.isnull().sum())"
   ]
  },
  {
   "cell_type": "code",
   "execution_count": 14,
   "id": "0c58ac54-6902-4938-bb92-c9e7e4d51b1a",
   "metadata": {},
   "outputs": [],
   "source": [
    "# Drop unnecessary columns and handle categorical variables\n",
    "# Assuming 'car_ID' is not needed\n",
    "data.drop('car_ID', axis=1, inplace=True)"
   ]
  },
  {
   "cell_type": "code",
   "execution_count": 16,
   "id": "a4afd12b-3c66-47aa-985e-cae4c709e318",
   "metadata": {},
   "outputs": [],
   "source": [
    "# Encode categorical variables\n",
    "categorical_cols = data.select_dtypes(include=['object']).columns\n",
    "\n",
    "data = pd.get_dummies(data, columns=categorical_cols, drop_first=True)\n"
   ]
  },
  {
   "cell_type": "code",
   "execution_count": 18,
   "id": "521fad28-2b98-41a7-b5b3-43bbfd05496d",
   "metadata": {},
   "outputs": [],
   "source": [
    "# Split features and target\n",
    "target = 'price'\n",
    "X = data.drop(target, axis=1)\n",
    "y = data[target]\n"
   ]
  },
  {
   "cell_type": "code",
   "execution_count": 20,
   "id": "d10e10b1-2858-4590-88f8-bdeb8d3f2416",
   "metadata": {},
   "outputs": [],
   "source": [
    "# Scale features\n",
    "scaler = StandardScaler()\n",
    "X_scaled = scaler.fit_transform(X)"
   ]
  },
  {
   "cell_type": "code",
   "execution_count": 22,
   "id": "6f769900-c462-4638-9f00-770c45888903",
   "metadata": {},
   "outputs": [],
   "source": [
    "# Train-test split\n",
    "X_train, X_test, y_train, y_test = train_test_split(X_scaled, y, test_size=0.2, random_state=42)\n"
   ]
  },
  {
   "cell_type": "code",
   "execution_count": 30,
   "id": "ff817524-9b77-4eb3-9ede-ac37f32c1dc7",
   "metadata": {},
   "outputs": [],
   "source": [
    "# 2. Model Implementation\n",
    "models = {\n",
    "    'Linear Regression': LinearRegression(),\n",
    "    'Decision Tree': DecisionTreeRegressor(random_state=42),\n",
    "    'Random Forest': RandomForestRegressor(random_state=42),\n",
    "    'Gradient Boosting': GradientBoostingRegressor(random_state=42),\n",
    "    'Support Vector Regressor': SVR()\n",
    "}\n",
    "\n",
    "results = {}\n",
    "\n",
    "for name, model in models.items():\n",
    "    model.fit(X_train, y_train)\n",
    "    y_pred = model.predict(X_test)\n",
    "    \n",
    "    # Evaluate\n",
    "    r2 = r2_score(y_test, y_pred)\n",
    "    mse = mean_squared_error(y_test, y_pred)\n",
    "    mae = mean_absolute_error(y_test, y_pred)\n",
    "    \n",
    "    results[name] = {'R-squared': r2, 'MSE': mse, 'MAE': mae}"
   ]
  },
  {
   "cell_type": "code",
   "execution_count": 32,
   "id": "d40a6b8d-3b06-40fe-b2b4-f91116c7ac9d",
   "metadata": {},
   "outputs": [
    {
     "name": "stdout",
     "output_type": "stream",
     "text": [
      "                             R-squared           MSE           MAE\n",
      "Linear Regression        -3.584911e+26  2.830073e+34  8.296015e+16\n",
      "Decision Tree             8.558977e-01  1.137602e+07  2.200142e+03\n",
      "Random Forest             9.533492e-01  3.682803e+06  1.367316e+03\n",
      "Gradient Boosting         9.307984e-01  5.463056e+06  1.696863e+03\n",
      "Support Vector Regressor -1.020658e-01  8.700151e+07  5.707013e+03\n"
     ]
    }
   ],
   "source": [
    "# Display results\n",
    "results_df = pd.DataFrame(results).T\n",
    "print(results_df)"
   ]
  },
  {
   "cell_type": "code",
   "execution_count": 36,
   "id": "551d4c52-9e59-406a-8b52-a4e59b21d7bb",
   "metadata": {},
   "outputs": [],
   "source": [
    "# 3. Feature Importance Analysis\n",
    "# Feature importance from Random Forest\n",
    "rf_model = models['Random Forest']\n",
    "feature_importances = pd.Series(rf_model.feature_importances_, index=X.columns).sort_values(ascending=False)\n"
   ]
  },
  {
   "cell_type": "code",
   "execution_count": 38,
   "id": "5a2a2603-2741-4ff4-a9c5-3cf5ffbd96fe",
   "metadata": {},
   "outputs": [
    {
     "data": {
      "image/png": "[encoded data removed]",
      "text/plain": [
       "<Figure size 1000x600 with 1 Axes>"
      ]
     },
     "metadata": {},
     "output_type": "display_data"
    }
   ],
   "source": [
    "# Plot feature importances\n",
    "plt.figure(figsize=(10, 6))\n",
    "feature_importances.head(10).plot(kind='bar')\n",
    "plt.title('Top 10 Feature Importances')\n",
    "plt.show()\n"
   ]
  },
  {
   "cell_type": "code",
   "execution_count": 45,
   "id": "4d52ee36-c018-4734-9b7a-fe630c83c588",
   "metadata": {},
   "outputs": [
    {
     "name": "stdout",
     "output_type": "stream",
     "text": [
      "Best Model Performance:\n",
      "R-squared: 0.9391398898153419\n",
      "MSE: 4804541.809155916\n",
      "MAE: 1524.2910039660053\n"
     ]
    }
   ],
   "source": [
    "# 4. Hyperparameter Tuning\n",
    "param_grid = {\n",
    "    'n_estimators': [50, 100, 200],\n",
    "    'max_depth': [None, 10, 20],\n",
    "    'min_samples_split': [2, 5, 10]\n",
    "}\n",
    "\n",
    "grid_search = GridSearchCV(RandomForestRegressor(random_state=42), param_grid, cv=3, scoring='r2')\n",
    "grid_search.fit(X_train, y_train)\n",
    "\n",
    "best_model = grid_search.best_estimator_\n",
    "\n",
    "# Evaluate tuned model\n",
    "y_pred_tuned = best_model.predict(X_test)\n",
    "r2_tuned = r2_score(y_test, y_pred_tuned)\n",
    "mse_tuned = mean_squared_error(y_test, y_pred_tuned)\n",
    "mae_tuned = mean_absolute_error(y_test, y_pred_tuned)\n",
    "\n",
    "print(\"Best Model Performance:\")\n",
    "print(f\"R-squared: {r2_tuned}\")\n",
    "print(f\"MSE: {mse_tuned}\")\n",
    "print(f\"MAE: {mae_tuned}\")\n"
   ]
  },
  {
   "cell_type": "code",
   "execution_count": null,
   "id": "18cd8c22-193e-47f8-a32d-a55776519fa2",
   "metadata": {},
   "outputs": [],
   "source": []
  }
 ],
 "metadata": {
  "kernelspec": {
   "display_name": "Python 3 (ipykernel)",
   "language": "python",
   "name": "python3"
  },
  "language_info": {
   "codemirror_mode": {
    "name": "ipython",
    "version": 3
   },
   "file_extension": ".py",
   "mimetype": "text/x-python",
   "name": "python",
   "nbconvert_exporter": "python",
   "pygments_lexer": "ipython3",
   "version": "3.12.4"
  }
 },
 "nbformat": 4,
 "nbformat_minor": 5
}
